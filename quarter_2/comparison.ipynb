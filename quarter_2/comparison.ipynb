{
 "cells": [
  {
   "cell_type": "markdown",
   "id": "348820e1-980b-43da-ab10-04196fdaf84b",
   "metadata": {},
   "source": [
    "# Comparison of various Classification algorithms"
   ]
  },
  {
   "cell_type": "code",
   "execution_count": 1,
   "id": "0c004edc-c35c-4d6c-a23b-72e27c51f4e8",
   "metadata": {},
   "outputs": [],
   "source": [
    "import pandas as pd\n",
    "from sklearn.ensemble import RandomForestClassifier as RFC\n",
    "from sklearn.model_selection import train_test_split\n",
    "from sklearn import tree\n",
    "from sklearn.tree import export_graphviz\n",
    "from graphviz import Source\n",
    "import matplotlib.pyplot as plt\n",
    "from sklearn.metrics import (\n",
    "    confusion_matrix, classification_report, roc_curve, auc,\n",
    "    precision_recall_curve, f1_score\n",
    ")"
   ]
  },
  {
   "cell_type": "markdown",
   "id": "1fa48a8f-bfa5-4ee4-96bf-2e7f0cb1a300",
   "metadata": {},
   "source": [
    "## Custom functions to evaluate models"
   ]
  },
  {
   "cell_type": "code",
   "execution_count": 2,
   "id": "354c1e72-cc86-4508-8a2e-dc5a72ac7214",
   "metadata": {
    "tags": []
   },
   "outputs": [
    {
     "data": {
      "text/html": [
       "<div>\n",
       "<style scoped>\n",
       "    .dataframe tbody tr th:only-of-type {\n",
       "        vertical-align: middle;\n",
       "    }\n",
       "\n",
       "    .dataframe tbody tr th {\n",
       "        vertical-align: top;\n",
       "    }\n",
       "\n",
       "    .dataframe thead th {\n",
       "        text-align: right;\n",
       "    }\n",
       "</style>\n",
       "<table border=\"1\" class=\"dataframe\">\n",
       "  <thead>\n",
       "    <tr style=\"text-align: right;\">\n",
       "      <th></th>\n",
       "      <th>Version</th>\n",
       "      <th>Error Correction Level</th>\n",
       "      <th>Number of Blocks</th>\n",
       "      <th>Expected number of data codewords</th>\n",
       "      <th>Actual number of data codewords</th>\n",
       "      <th>Number of empty bytes</th>\n",
       "      <th>Number of EC Codewords</th>\n",
       "      <th>Errors corrected</th>\n",
       "    </tr>\n",
       "  </thead>\n",
       "  <tbody>\n",
       "    <tr>\n",
       "      <th>0</th>\n",
       "      <td>2</td>\n",
       "      <td>L</td>\n",
       "      <td>1</td>\n",
       "      <td>34</td>\n",
       "      <td>34</td>\n",
       "      <td>0</td>\n",
       "      <td>10</td>\n",
       "      <td>0</td>\n",
       "    </tr>\n",
       "    <tr>\n",
       "      <th>1</th>\n",
       "      <td>10</td>\n",
       "      <td>L</td>\n",
       "      <td>4</td>\n",
       "      <td>274</td>\n",
       "      <td>274</td>\n",
       "      <td>0</td>\n",
       "      <td>18</td>\n",
       "      <td>0</td>\n",
       "    </tr>\n",
       "    <tr>\n",
       "      <th>2</th>\n",
       "      <td>1</td>\n",
       "      <td>L</td>\n",
       "      <td>1</td>\n",
       "      <td>19</td>\n",
       "      <td>19</td>\n",
       "      <td>0</td>\n",
       "      <td>7</td>\n",
       "      <td>0</td>\n",
       "    </tr>\n",
       "    <tr>\n",
       "      <th>3</th>\n",
       "      <td>3</td>\n",
       "      <td>M</td>\n",
       "      <td>1</td>\n",
       "      <td>44</td>\n",
       "      <td>44</td>\n",
       "      <td>0</td>\n",
       "      <td>26</td>\n",
       "      <td>0</td>\n",
       "    </tr>\n",
       "    <tr>\n",
       "      <th>4</th>\n",
       "      <td>2</td>\n",
       "      <td>M</td>\n",
       "      <td>1</td>\n",
       "      <td>28</td>\n",
       "      <td>27</td>\n",
       "      <td>1</td>\n",
       "      <td>16</td>\n",
       "      <td>8</td>\n",
       "    </tr>\n",
       "  </tbody>\n",
       "</table>\n",
       "</div>"
      ],
      "text/plain": [
       "   Version Error Correction Level  Number of Blocks  \\\n",
       "0        2                      L                 1   \n",
       "1       10                      L                 4   \n",
       "2        1                      L                 1   \n",
       "3        3                      M                 1   \n",
       "4        2                      M                 1   \n",
       "\n",
       "   Expected number of data codewords  Actual number of data codewords  \\\n",
       "0                                 34                               34   \n",
       "1                                274                              274   \n",
       "2                                 19                               19   \n",
       "3                                 44                               44   \n",
       "4                                 28                               27   \n",
       "\n",
       "   Number of empty bytes  Number of EC Codewords  Errors corrected  \n",
       "0                      0                      10                 0  \n",
       "1                      0                      18                 0  \n",
       "2                      0                       7                 0  \n",
       "3                      0                      26                 0  \n",
       "4                      1                      16                 8  "
      ]
     },
     "execution_count": 2,
     "metadata": {},
     "output_type": "execute_result"
    }
   ],
   "source": [
    "# Define all the funcs to later evaluate models\n",
    "def plot_confusion_matrix(y_true, y_pred, title=\"Confusion Matrix\"):\n",
    "    cm = confusion_matrix(y_true, y_pred)\n",
    "    plt.figure()\n",
    "    plt.matshow(cm, cmap=\"coolwarm\", alpha=0.7)\n",
    "    for i in range(cm.shape[0]):\n",
    "        for j in range(cm.shape[1]):\n",
    "            plt.text(x=j, y=i, s=cm[i, j], ha='center', va='center')\n",
    "    plt.title(title)\n",
    "    plt.xlabel(\"Predicted Labels\")\n",
    "    plt.ylabel(\"True Labels\")\n",
    "    plt.show()\n",
    "\n",
    "\n",
    "def plot_precision_recall(y_true, y_probs, model_name=\"Model\"):\n",
    "    precision, recall, thresholds = precision_recall_curve(y_true, y_probs)\n",
    "    f1 = f1_score(y_true, (y_probs >= 0.5).astype(int))\n",
    "    plt.figure()\n",
    "    plt.plot(recall, precision,\n",
    "             label=f\"Precision-Recall Curve (F1 = {f1:.2f})\")\n",
    "    plt.xlabel(\"Recall\")\n",
    "    plt.ylabel(\"Precision\")\n",
    "    plt.title(f\"{model_name} Precision-Recall Curve\")\n",
    "    plt.legend()\n",
    "    plt.show()\n",
    "\n",
    "\n",
    "def plot_roc_curve(y_true, y_probs, model_name=\"Model\"):\n",
    "    fpr, tpr, thresholds = roc_curve(y_true, y_probs)\n",
    "    roc_auc = auc(fpr, tpr)\n",
    "    plt.figure()\n",
    "    plt.plot(fpr, tpr, label=f\"ROC Curve (AUC = {roc_auc:.2f})\")\n",
    "    plt.plot([0, 1], [0, 1], linestyle=\"--\", color=\"gray\")\n",
    "    plt.xlabel(\"False Positive Rate\")\n",
    "    plt.ylabel(\"True Positive Rate\")\n",
    "    plt.title(f\"{model_name} ROC Curve\")\n",
    "    plt.legend()\n",
    "    plt.show()\n",
    "\n",
    "\n",
    "df = pd.read_csv(\"test2.csv\")\n",
    "df.head(5)"
   ]
  },
  {
   "cell_type": "markdown",
   "id": "11f0f018-73f3-4af6-a78f-d5c069844129",
   "metadata": {},
   "source": [
    "## Dataframe preparation\n",
    "This is just demonstration, this should be done while generating the csv, and based of the origin of the qr code (i.e. (malicious dataset) -> modified)"
   ]
  },
  {
   "cell_type": "code",
   "execution_count": 3,
   "id": "1fc83fa8-c668-472b-9b2e-39e99f509132",
   "metadata": {
    "tags": []
   },
   "outputs": [
    {
     "data": {
      "text/html": [
       "<div>\n",
       "<style scoped>\n",
       "    .dataframe tbody tr th:only-of-type {\n",
       "        vertical-align: middle;\n",
       "    }\n",
       "\n",
       "    .dataframe tbody tr th {\n",
       "        vertical-align: top;\n",
       "    }\n",
       "\n",
       "    .dataframe thead th {\n",
       "        text-align: right;\n",
       "    }\n",
       "</style>\n",
       "<table border=\"1\" class=\"dataframe\">\n",
       "  <thead>\n",
       "    <tr style=\"text-align: right;\">\n",
       "      <th></th>\n",
       "      <th>Version</th>\n",
       "      <th>Error Correction Level</th>\n",
       "      <th>Number of Blocks</th>\n",
       "      <th>Expected number of data codewords</th>\n",
       "      <th>Actual number of data codewords</th>\n",
       "      <th>Number of empty bytes</th>\n",
       "      <th>Number of EC Codewords</th>\n",
       "      <th>Errors corrected</th>\n",
       "      <th>Modified</th>\n",
       "      <th>EC Level</th>\n",
       "    </tr>\n",
       "  </thead>\n",
       "  <tbody>\n",
       "    <tr>\n",
       "      <th>0</th>\n",
       "      <td>2</td>\n",
       "      <td>L</td>\n",
       "      <td>1</td>\n",
       "      <td>34</td>\n",
       "      <td>34</td>\n",
       "      <td>0</td>\n",
       "      <td>10</td>\n",
       "      <td>0</td>\n",
       "      <td>0</td>\n",
       "      <td>1</td>\n",
       "    </tr>\n",
       "    <tr>\n",
       "      <th>1</th>\n",
       "      <td>10</td>\n",
       "      <td>L</td>\n",
       "      <td>4</td>\n",
       "      <td>274</td>\n",
       "      <td>274</td>\n",
       "      <td>0</td>\n",
       "      <td>18</td>\n",
       "      <td>0</td>\n",
       "      <td>0</td>\n",
       "      <td>1</td>\n",
       "    </tr>\n",
       "    <tr>\n",
       "      <th>2</th>\n",
       "      <td>1</td>\n",
       "      <td>L</td>\n",
       "      <td>1</td>\n",
       "      <td>19</td>\n",
       "      <td>19</td>\n",
       "      <td>0</td>\n",
       "      <td>7</td>\n",
       "      <td>0</td>\n",
       "      <td>0</td>\n",
       "      <td>1</td>\n",
       "    </tr>\n",
       "    <tr>\n",
       "      <th>3</th>\n",
       "      <td>3</td>\n",
       "      <td>M</td>\n",
       "      <td>1</td>\n",
       "      <td>44</td>\n",
       "      <td>44</td>\n",
       "      <td>0</td>\n",
       "      <td>26</td>\n",
       "      <td>0</td>\n",
       "      <td>0</td>\n",
       "      <td>2</td>\n",
       "    </tr>\n",
       "    <tr>\n",
       "      <th>4</th>\n",
       "      <td>2</td>\n",
       "      <td>M</td>\n",
       "      <td>1</td>\n",
       "      <td>28</td>\n",
       "      <td>27</td>\n",
       "      <td>1</td>\n",
       "      <td>16</td>\n",
       "      <td>8</td>\n",
       "      <td>1</td>\n",
       "      <td>2</td>\n",
       "    </tr>\n",
       "    <tr>\n",
       "      <th>5</th>\n",
       "      <td>5</td>\n",
       "      <td>L</td>\n",
       "      <td>1</td>\n",
       "      <td>108</td>\n",
       "      <td>108</td>\n",
       "      <td>0</td>\n",
       "      <td>26</td>\n",
       "      <td>0</td>\n",
       "      <td>0</td>\n",
       "      <td>1</td>\n",
       "    </tr>\n",
       "    <tr>\n",
       "      <th>6</th>\n",
       "      <td>2</td>\n",
       "      <td>L</td>\n",
       "      <td>1</td>\n",
       "      <td>34</td>\n",
       "      <td>28</td>\n",
       "      <td>6</td>\n",
       "      <td>10</td>\n",
       "      <td>5</td>\n",
       "      <td>1</td>\n",
       "      <td>1</td>\n",
       "    </tr>\n",
       "  </tbody>\n",
       "</table>\n",
       "</div>"
      ],
      "text/plain": [
       "   Version Error Correction Level  Number of Blocks  \\\n",
       "0        2                      L                 1   \n",
       "1       10                      L                 4   \n",
       "2        1                      L                 1   \n",
       "3        3                      M                 1   \n",
       "4        2                      M                 1   \n",
       "5        5                      L                 1   \n",
       "6        2                      L                 1   \n",
       "\n",
       "   Expected number of data codewords  Actual number of data codewords  \\\n",
       "0                                 34                               34   \n",
       "1                                274                              274   \n",
       "2                                 19                               19   \n",
       "3                                 44                               44   \n",
       "4                                 28                               27   \n",
       "5                                108                              108   \n",
       "6                                 34                               28   \n",
       "\n",
       "   Number of empty bytes  Number of EC Codewords  Errors corrected  Modified  \\\n",
       "0                      0                      10                 0         0   \n",
       "1                      0                      18                 0         0   \n",
       "2                      0                       7                 0         0   \n",
       "3                      0                      26                 0         0   \n",
       "4                      1                      16                 8         1   \n",
       "5                      0                      26                 0         0   \n",
       "6                      6                      10                 5         1   \n",
       "\n",
       "   EC Level  \n",
       "0         1  \n",
       "1         1  \n",
       "2         1  \n",
       "3         2  \n",
       "4         2  \n",
       "5         1  \n",
       "6         1  "
      ]
     },
     "execution_count": 3,
     "metadata": {},
     "output_type": "execute_result"
    }
   ],
   "source": [
    "df['Modified'] = df['Number of empty bytes'].apply(lambda x: 1 if x > 0 else 0)\n",
    "df['EC Level'] = df['Error Correction Level'].map(\n",
    "    {'L': 1, 'M': 2, 'Q': 3, 'H': 4}).astype(int)\n",
    "\n",
    "df.head(10)"
   ]
  },
  {
   "cell_type": "code",
   "execution_count": 4,
   "id": "792b3785-b2ca-4eca-a067-d3fd15df149b",
   "metadata": {},
   "outputs": [
    {
     "data": {
      "text/html": [
       "<div>\n",
       "<style scoped>\n",
       "    .dataframe tbody tr th:only-of-type {\n",
       "        vertical-align: middle;\n",
       "    }\n",
       "\n",
       "    .dataframe tbody tr th {\n",
       "        vertical-align: top;\n",
       "    }\n",
       "\n",
       "    .dataframe thead th {\n",
       "        text-align: right;\n",
       "    }\n",
       "</style>\n",
       "<table border=\"1\" class=\"dataframe\">\n",
       "  <thead>\n",
       "    <tr style=\"text-align: right;\">\n",
       "      <th></th>\n",
       "      <th>Number of empty bytes</th>\n",
       "      <th>Errors corrected</th>\n",
       "    </tr>\n",
       "  </thead>\n",
       "  <tbody>\n",
       "    <tr>\n",
       "      <th>0</th>\n",
       "      <td>0</td>\n",
       "      <td>0</td>\n",
       "    </tr>\n",
       "    <tr>\n",
       "      <th>1</th>\n",
       "      <td>0</td>\n",
       "      <td>0</td>\n",
       "    </tr>\n",
       "    <tr>\n",
       "      <th>2</th>\n",
       "      <td>0</td>\n",
       "      <td>0</td>\n",
       "    </tr>\n",
       "    <tr>\n",
       "      <th>3</th>\n",
       "      <td>0</td>\n",
       "      <td>0</td>\n",
       "    </tr>\n",
       "    <tr>\n",
       "      <th>4</th>\n",
       "      <td>1</td>\n",
       "      <td>8</td>\n",
       "    </tr>\n",
       "    <tr>\n",
       "      <th>5</th>\n",
       "      <td>0</td>\n",
       "      <td>0</td>\n",
       "    </tr>\n",
       "    <tr>\n",
       "      <th>6</th>\n",
       "      <td>6</td>\n",
       "      <td>5</td>\n",
       "    </tr>\n",
       "  </tbody>\n",
       "</table>\n",
       "</div>"
      ],
      "text/plain": [
       "   Number of empty bytes  Errors corrected\n",
       "0                      0                 0\n",
       "1                      0                 0\n",
       "2                      0                 0\n",
       "3                      0                 0\n",
       "4                      1                 8\n",
       "5                      0                 0\n",
       "6                      6                 5"
      ]
     },
     "execution_count": 4,
     "metadata": {},
     "output_type": "execute_result"
    }
   ],
   "source": [
    "train_X = df[['Number of empty bytes', 'Errors corrected']]\n",
    "train_X.head(10)"
   ]
  },
  {
   "cell_type": "code",
   "execution_count": 5,
   "id": "049d0954-72ad-4d8e-99f3-38197b710c39",
   "metadata": {
    "tags": []
   },
   "outputs": [
    {
     "data": {
      "text/plain": [
       "0    0\n",
       "1    0\n",
       "2    0\n",
       "3    0\n",
       "4    1\n",
       "5    0\n",
       "6    1\n",
       "Name: Modified, dtype: int64"
      ]
     },
     "execution_count": 5,
     "metadata": {},
     "output_type": "execute_result"
    }
   ],
   "source": [
    "train_y = df['Modified']\n",
    "train_y.head(10)"
   ]
  },
  {
   "cell_type": "code",
   "execution_count": 6,
   "id": "39dfe5ab-5cb0-42f9-88b3-9f17a99a9ff2",
   "metadata": {
    "tags": []
   },
   "outputs": [
    {
     "data": {
      "text/html": [
       "<div>\n",
       "<style scoped>\n",
       "    .dataframe tbody tr th:only-of-type {\n",
       "        vertical-align: middle;\n",
       "    }\n",
       "\n",
       "    .dataframe tbody tr th {\n",
       "        vertical-align: top;\n",
       "    }\n",
       "\n",
       "    .dataframe thead th {\n",
       "        text-align: right;\n",
       "    }\n",
       "</style>\n",
       "<table border=\"1\" class=\"dataframe\">\n",
       "  <thead>\n",
       "    <tr style=\"text-align: right;\">\n",
       "      <th></th>\n",
       "      <th>Number of empty bytes</th>\n",
       "      <th>Errors corrected</th>\n",
       "    </tr>\n",
       "  </thead>\n",
       "  <tbody>\n",
       "    <tr>\n",
       "      <th>0</th>\n",
       "      <td>0</td>\n",
       "      <td>0</td>\n",
       "    </tr>\n",
       "    <tr>\n",
       "      <th>4</th>\n",
       "      <td>1</td>\n",
       "      <td>8</td>\n",
       "    </tr>\n",
       "    <tr>\n",
       "      <th>3</th>\n",
       "      <td>0</td>\n",
       "      <td>0</td>\n",
       "    </tr>\n",
       "    <tr>\n",
       "      <th>5</th>\n",
       "      <td>0</td>\n",
       "      <td>0</td>\n",
       "    </tr>\n",
       "  </tbody>\n",
       "</table>\n",
       "</div>"
      ],
      "text/plain": [
       "   Number of empty bytes  Errors corrected\n",
       "0                      0                 0\n",
       "4                      1                 8\n",
       "3                      0                 0\n",
       "5                      0                 0"
      ]
     },
     "execution_count": 6,
     "metadata": {},
     "output_type": "execute_result"
    }
   ],
   "source": [
    "X_train, X_test, y_train, y_test = train_test_split(train_X,\n",
    "                                                    train_y, test_size=0.3,\n",
    "                                                    random_state=1)\n",
    "\n",
    "X_train.head(10)\n",
    "\n",
    "# print(\"Test set size: \" + str(X_test.size))\n",
    "# print(\"Train set size: \" + str(X_train.size))"
   ]
  },
  {
   "cell_type": "markdown",
   "id": "39dd694c-185d-43c7-9dca-790d76346f4d",
   "metadata": {},
   "source": [
    "## Decison Tree"
   ]
  },
  {
   "cell_type": "code",
   "execution_count": 7,
   "id": "6931c65c-2c5e-4bd0-9c8e-c7447ed12258",
   "metadata": {
    "tags": []
   },
   "outputs": [
    {
     "data": {
      "image/svg+xml": [
       "<?xml version=\"1.0\" encoding=\"UTF-8\" standalone=\"no\"?>\n",
       "<!DOCTYPE svg PUBLIC \"-//W3C//DTD SVG 1.1//EN\"\n",
       " \"http://www.w3.org/Graphics/SVG/1.1/DTD/svg11.dtd\">\n",
       "<!-- Generated by graphviz version 2.43.0 (0)\n",
       " -->\n",
       "<!-- Title: Tree Pages: 1 -->\n",
       "<svg width=\"318pt\" height=\"195pt\"\n",
       " viewBox=\"0.00 0.00 318.00 195.00\" xmlns=\"http://www.w3.org/2000/svg\" xmlns:xlink=\"http://www.w3.org/1999/xlink\">\n",
       "<g id=\"graph0\" class=\"graph\" transform=\"scale(1 1) rotate(0) translate(4 191)\">\n",
       "<title>Tree</title>\n",
       "<polygon fill=\"white\" stroke=\"transparent\" points=\"-4,4 -4,-191 314,-191 314,4 -4,4\"/>\n",
       "<!-- 0 -->\n",
       "<g id=\"node1\" class=\"node\">\n",
       "<title>0</title>\n",
       "<path fill=\"#eeab7b\" stroke=\"black\" d=\"M269.5,-187C269.5,-187 55.5,-187 55.5,-187 49.5,-187 43.5,-181 43.5,-175 43.5,-175 43.5,-116 43.5,-116 43.5,-110 49.5,-104 55.5,-104 55.5,-104 269.5,-104 269.5,-104 275.5,-104 281.5,-110 281.5,-116 281.5,-116 281.5,-175 281.5,-175 281.5,-181 275.5,-187 269.5,-187\"/>\n",
       "<text text-anchor=\"middle\" x=\"162.5\" y=\"-171.8\" font-family=\"Helvetica,sans-Serif\" font-size=\"14.00\">Number of empty bytes &lt;= 0.5</text>\n",
       "<text text-anchor=\"middle\" x=\"162.5\" y=\"-156.8\" font-family=\"Helvetica,sans-Serif\" font-size=\"14.00\">gini = 0.375</text>\n",
       "<text text-anchor=\"middle\" x=\"162.5\" y=\"-141.8\" font-family=\"Helvetica,sans-Serif\" font-size=\"14.00\">samples = 4</text>\n",
       "<text text-anchor=\"middle\" x=\"162.5\" y=\"-126.8\" font-family=\"Helvetica,sans-Serif\" font-size=\"14.00\">value = [3, 1]</text>\n",
       "<text text-anchor=\"middle\" x=\"162.5\" y=\"-111.8\" font-family=\"Helvetica,sans-Serif\" font-size=\"14.00\">class = Not modified</text>\n",
       "</g>\n",
       "<!-- 1 -->\n",
       "<g id=\"node2\" class=\"node\">\n",
       "<title>1</title>\n",
       "<path fill=\"#e58139\" stroke=\"black\" d=\"M149,-68C149,-68 12,-68 12,-68 6,-68 0,-62 0,-56 0,-56 0,-12 0,-12 0,-6 6,0 12,0 12,0 149,0 149,0 155,0 161,-6 161,-12 161,-12 161,-56 161,-56 161,-62 155,-68 149,-68\"/>\n",
       "<text text-anchor=\"middle\" x=\"80.5\" y=\"-52.8\" font-family=\"Helvetica,sans-Serif\" font-size=\"14.00\">gini = 0.0</text>\n",
       "<text text-anchor=\"middle\" x=\"80.5\" y=\"-37.8\" font-family=\"Helvetica,sans-Serif\" font-size=\"14.00\">samples = 3</text>\n",
       "<text text-anchor=\"middle\" x=\"80.5\" y=\"-22.8\" font-family=\"Helvetica,sans-Serif\" font-size=\"14.00\">value = [3, 0]</text>\n",
       "<text text-anchor=\"middle\" x=\"80.5\" y=\"-7.8\" font-family=\"Helvetica,sans-Serif\" font-size=\"14.00\">class = Not modified</text>\n",
       "</g>\n",
       "<!-- 0&#45;&gt;1 -->\n",
       "<g id=\"edge1\" class=\"edge\">\n",
       "<title>0&#45;&gt;1</title>\n",
       "<path fill=\"none\" stroke=\"black\" d=\"M131.97,-103.73C125.27,-94.79 118.18,-85.32 111.47,-76.36\"/>\n",
       "<polygon fill=\"black\" stroke=\"black\" points=\"114.23,-74.21 105.44,-68.3 108.63,-78.4 114.23,-74.21\"/>\n",
       "<text text-anchor=\"middle\" x=\"101.88\" y=\"-89.35\" font-family=\"Helvetica,sans-Serif\" font-size=\"14.00\">True</text>\n",
       "</g>\n",
       "<!-- 2 -->\n",
       "<g id=\"node3\" class=\"node\">\n",
       "<title>2</title>\n",
       "<path fill=\"#399de5\" stroke=\"black\" d=\"M298,-68C298,-68 191,-68 191,-68 185,-68 179,-62 179,-56 179,-56 179,-12 179,-12 179,-6 185,0 191,0 191,0 298,0 298,0 304,0 310,-6 310,-12 310,-12 310,-56 310,-56 310,-62 304,-68 298,-68\"/>\n",
       "<text text-anchor=\"middle\" x=\"244.5\" y=\"-52.8\" font-family=\"Helvetica,sans-Serif\" font-size=\"14.00\">gini = 0.0</text>\n",
       "<text text-anchor=\"middle\" x=\"244.5\" y=\"-37.8\" font-family=\"Helvetica,sans-Serif\" font-size=\"14.00\">samples = 1</text>\n",
       "<text text-anchor=\"middle\" x=\"244.5\" y=\"-22.8\" font-family=\"Helvetica,sans-Serif\" font-size=\"14.00\">value = [0, 1]</text>\n",
       "<text text-anchor=\"middle\" x=\"244.5\" y=\"-7.8\" font-family=\"Helvetica,sans-Serif\" font-size=\"14.00\">class = Modified</text>\n",
       "</g>\n",
       "<!-- 0&#45;&gt;2 -->\n",
       "<g id=\"edge2\" class=\"edge\">\n",
       "<title>0&#45;&gt;2</title>\n",
       "<path fill=\"none\" stroke=\"black\" d=\"M193.03,-103.73C199.73,-94.79 206.82,-85.32 213.53,-76.36\"/>\n",
       "<polygon fill=\"black\" stroke=\"black\" points=\"216.37,-78.4 219.56,-68.3 210.77,-74.21 216.37,-78.4\"/>\n",
       "<text text-anchor=\"middle\" x=\"223.12\" y=\"-89.35\" font-family=\"Helvetica,sans-Serif\" font-size=\"14.00\">False</text>\n",
       "</g>\n",
       "</g>\n",
       "</svg>\n"
      ],
      "text/plain": [
       "<graphviz.files.Source at 0x7f585ab9c640>"
      ]
     },
     "execution_count": 7,
     "metadata": {},
     "output_type": "execute_result"
    }
   ],
   "source": [
    "dtc = tree.DecisionTreeClassifier(random_state=42, criterion=\"entropy\", max_depth=2)\n",
    "# Using gini as criterion\n",
    "dtc_gini = tree.DecisionTreeClassifier(random_state=42, criterion=\"gini\", max_depth=2)\n",
    "\n",
    "clf = dtc.fit(X_train, y_train)\n",
    "clf2 = dtc_gini.fit(X_train, y_train)\n",
    "\n",
    "feature_names = X_train.columns\n",
    "class_names = ['Not modified', 'Modified']\n",
    "\n",
    "export_graphviz(\n",
    "    clf,\n",
    "    out_file=\"test.dot\",\n",
    "    feature_names=feature_names,\n",
    "    class_names=class_names,\n",
    "    rounded=True,\n",
    "    filled=True,\n",
    ")\n",
    "\n",
    "# Also export DT with gini as criterion\n",
    "export_graphviz(\n",
    "    dtc_gini,\n",
    "    out_file=\"test_gini.dot\",\n",
    "    feature_names=feature_names,\n",
    "    class_names=class_names,\n",
    "    rounded=True,\n",
    "    filled=True,\n",
    ")\n",
    "\n",
    "dtc_pred = clf.predict(X_test)\n",
    "dtc_gini_pred = clf2.predict(X_test)\n",
    "\n",
    "Source.from_file(\"test_gini.dot\")\n",
    "#Source.from_file(\"test.dot\")"
   ]
  },
  {
   "cell_type": "markdown",
   "id": "b7f84eed-e3e8-4c69-9ceb-af4b7b80a8ba",
   "metadata": {},
   "source": [
    "## Decision Tree evaluation"
   ]
  },
  {
   "cell_type": "code",
   "execution_count": 8,
   "id": "8660b713-2846-4dd3-9d0e-e06343f79f10",
   "metadata": {
    "tags": []
   },
   "outputs": [
    {
     "data": {
      "text/plain": [
       "<Figure size 640x480 with 0 Axes>"
      ]
     },
     "metadata": {},
     "output_type": "display_data"
    },
    {
     "data": {
      "image/png": "[encoded data removed]",
      "text/plain": [
       "<Figure size 480x480 with 1 Axes>"
      ]
     },
     "metadata": {},
     "output_type": "display_data"
    },
    {
     "data": {
      "image/png": "[encoded data removed]",
      "text/plain": [
       "<Figure size 640x480 with 1 Axes>"
      ]
     },
     "metadata": {},
     "output_type": "display_data"
    },
    {
     "data": {
      "image/png": "[encoded data removed]",
      "text/plain": [
       "<Figure size 640x480 with 1 Axes>"
      ]
     },
     "metadata": {},
     "output_type": "display_data"
    },
    {
     "name": "stdout",
     "output_type": "stream",
     "text": [
      "              precision    recall  f1-score   support\n",
      "\n",
      "           0       1.00      1.00      1.00         2\n",
      "           1       1.00      1.00      1.00         1\n",
      "\n",
      "    accuracy                           1.00         3\n",
      "   macro avg       1.00      1.00      1.00         3\n",
      "weighted avg       1.00      1.00      1.00         3\n",
      "\n"
     ]
    }
   ],
   "source": [
    "plot_confusion_matrix(y_test, dtc_pred, title=\"Decision Tree Confusion Matrix\")\n",
    "plot_precision_recall(y_test, dtc_pred, model_name=\"Decision Tree\")\n",
    "plot_roc_curve(y_test, dtc_pred, model_name=\"Decision Tree\")\n",
    "print(classification_report(y_test, dtc_pred))"
   ]
  },
  {
   "cell_type": "markdown",
   "id": "62e09c21-6331-4578-a4de-6c0caef00dac",
   "metadata": {},
   "source": [
    "## Random Forest"
   ]
  },
  {
   "cell_type": "code",
   "execution_count": null,
   "id": "7e697c95-fc5c-4750-9f74-193c028c1843",
   "metadata": {
    "tags": []
   },
   "outputs": [
    {
     "data": {
      "text/plain": [
       "<Figure size 640x480 with 0 Axes>"
      ]
     },
     "metadata": {},
     "output_type": "display_data"
    },
    {
     "data": {
      "image/png": "[encoded data removed]",
      "text/plain": [
       "<Figure size 480x480 with 1 Axes>"
      ]
     },
     "metadata": {},
     "output_type": "display_data"
    }
   ],
   "source": [
    "rf = RFC(random_state=1234, criterion=\"entropy\", n_estimators=10, max_depth=3)\n",
    "rf.fit(X_train, y_train)\n",
    "rf_pred = rf.predict(X_test)\n",
    "\n",
    "plot_confusion_matrix(y_test, dtc_pred, title=\"Random Forest Confusion Matrix\")\n",
    "plot_precision_recall(y_test, dtc_pred, model_name=\"Random Forest\")\n",
    "plot_roc_curve(y_test, dtc_pred, model_name=\"Random Forest\")\n",
    "print(classification_report(y_test, dtc_pred))"
   ]
  }
 ],
 "metadata": {
  "kernelspec": {
   "display_name": "Python",
   "language": "python",
   "name": "python3"
  },
  "language_info": {
   "codemirror_mode": {
    "name": "ipython",
    "version": 3
   },
   "file_extension": ".py",
   "mimetype": "text/x-python",
   "name": "python",
   "nbconvert_exporter": "python",
   "pygments_lexer": "ipython3",
   "version": "3.8.10"
  }
 },
 "nbformat": 4,
 "nbformat_minor": 5
}
